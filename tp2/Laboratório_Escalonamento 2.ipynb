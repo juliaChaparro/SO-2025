{
 "cells": [
  {
   "cell_type": "markdown",
   "metadata": {
    "colab_type": "text",
    "id": "t1B1lQ1sXJKr"
   },
   "source": [
    "### Laboratorio de Escalonamento ###\n",
    "\n",
    "Neste laboratório, iremos simular o funcionamento de algoritmos de escalonamento básicos para entender melhor seu funcionamento.\n",
    "\n",
    "Na célula abaixo, temos uma classe Processo, que tem as informações de execução, e uma classe de exemplo de escalonamento apenas com os protótipos:\n",
    "\n",
    "(orientação a objeto em Python)"
   ]
  },
  {
   "cell_type": "code",
   "execution_count": 3,
   "metadata": {
    "colab": {},
    "colab_type": "code",
    "id": "CKLCRHZhXJKs"
   },
   "outputs": [
    {
     "ename": "IndentationError",
     "evalue": "expected an indented block after function definition on line 30 (4189443760.py, line 33)",
     "output_type": "error",
     "traceback": [
      "\u001b[0;36m  Cell \u001b[0;32mIn[3], line 33\u001b[0;36m\u001b[0m\n\u001b[0;31m    def proximo(self):\u001b[0m\n\u001b[0m    ^\u001b[0m\n\u001b[0;31mIndentationError\u001b[0m\u001b[0;31m:\u001b[0m expected an indented block after function definition on line 30\n"
     ]
    }
   ],
   "source": [
    "import numpy as np\n",
    "import random\n",
    "\n",
    "class Processo(object):\n",
    "    def __init__(self,pnome,pio,ptam,prioridade,tempoChegada,bilhetes=0):\n",
    "        self.nome = pnome\n",
    "        self.io = pio # Probabilidade de fazer E/S, inicialmente zero\n",
    "        self.tam = ptam # Quantos Timeslices sao necessarios para terminar\n",
    "        self.prio = prioridade # Prioridade, eh desnecessaria agora \n",
    "        self.chegada = 0\n",
    "        \n",
    "    def roda(self,quantum=None): # se rodar sem quantum, o processor roda ate o fim\n",
    "        if(random.randint(1,100)<self.io): #Verifica se fez E/S\n",
    "            self.tam-=1\n",
    "            print(self.nome,\" fez e/s, falta \",self.tam)\n",
    "            return 1, True #True que fez E/S\n",
    "            \n",
    "            \n",
    "        if(quantum is None or self.tam<quantum):\n",
    "            quantum = self.tam\n",
    "        self.tam -=quantum\n",
    "        print(self.nome,\" rodou por \",quantum,\" timeslice, faltam \",self.tam)\n",
    "        return quantum, False # False se nao fez E/S\n",
    "    \n",
    "\n",
    "class escalonador(object): # Protótipo de escalonador de exemplo\n",
    "    def __init__(self,vprontos=[]):\n",
    "        self.prontos = vprontos #processos que cheam ao tempo zero\n",
    "\n",
    "    def pronto(self,Processo):\n",
    "        # implemente aqui o que escalonador faz quando surge um novo processo pronto\n",
    "        \n",
    "    def proximo(self):\n",
    "        # implemente aqui a politica de escalonamento para definir um processo a ser executado\n",
    "        return p #processo p eh escolhido\n",
    "\n"
   ]
  },
  {
   "cell_type": "markdown",
   "metadata": {
    "colab_type": "text",
    "id": "14846ZyfXJKx"
   },
   "source": [
    "Na célula abaixo, são criados quatro processos completamente CPU-Bound que precisam de 3 timeslices para rodar.\n",
    "\n",
    "O valor de E/S é um número entre 0 e 100 indicando quantos porcento de chance o processo tem de fazer E/S durante seu tempo na CPU"
   ]
  },
  {
   "cell_type": "code",
   "execution_count": null,
   "metadata": {
    "colab": {},
    "colab_type": "code",
    "id": "Rc4wVHA4XJKx"
   },
   "outputs": [],
   "source": [
    "nprocs = 4\n",
    "nomes = ['A','B','C','D']\n",
    "chanceio = [0,0,0,0] #Valor de zero a cem, chance de ser entrada e saida por enquanto deixem em zero\n",
    "tamanho = np.array([3,3,3,3])\n",
    "\n",
    "\n",
    "total = tamanho.sum()\n",
    "\n",
    "procs = []\n",
    "for i in range(nprocs):\n",
    "    procs.append(Processo(nomes[i],chanceio[i],tamanho[i],0,0)) #cria uma lista procs de Processos"
   ]
  },
  {
   "cell_type": "markdown",
   "metadata": {
    "colab_type": "text",
    "id": "VkfIM_1iXJK0"
   },
   "source": [
    "Na célula abaixo, temos o mesmo simulador do laboratório anterior:"
   ]
  },
  {
   "cell_type": "code",
   "execution_count": null,
   "metadata": {},
   "outputs": [],
   "source": [
    "quantum = 2\n",
    "tempoBloq = 1\n",
    "\n",
    "escalonador = escalonador(procs) #troque escalonador pelo seu escalonador\n",
    "bloqueados = []\n",
    "\n",
    "tempo = 0\n",
    "\n",
    "random.seed(0)\n",
    "\n",
    "while total>0:\n",
    "    p = escalonador.proximo()\n",
    "    if(p is not None):\n",
    "        rodou, _ = p.roda() #adicione quantum como parâmetro, por enquanto nao temos E/S\n",
    "        \n",
    "        if(p.tam>0):\n",
    "            escalonador.pronto(p)\n",
    "        total-=rodou\n",
    "        tempo+=rodou\n",
    "    else:\n",
    "        #Reduz o tempo de todos os bloqueados em uma unidade se nao havia ninguem pronto\n",
    "        tempo+=1\n",
    "\n",
    "\n",
    "    "
   ]
  },
  {
   "cell_type": "markdown",
   "metadata": {},
   "source": [
    "Nesta, temos um simulador avançado, com E/S e novos processos chegando em momentos diferentes:"
   ]
  },
  {
   "cell_type": "code",
   "execution_count": null,
   "metadata": {
    "colab": {},
    "colab_type": "code",
    "id": "7LPgBMrXXJK1"
   },
   "outputs": [],
   "source": [
    "quantum = 2\n",
    "tempoBloq = 2\n",
    "\n",
    "escalonador = round_robin([])\n",
    "bloqueados = []\n",
    "\n",
    "\n",
    "maximo = 10\n",
    "chanceNovoProcesso = 60\n",
    "chanceIo = 30\n",
    "minTime = 4\n",
    "maxTime = 10\n",
    "\n",
    "\n",
    "contaProc = 1\n",
    "tempo = 0\n",
    "\n",
    "#descomente essa linha caso queira que os random sempre dêem o mesmo resultado\n",
    "#random.seed(0)\n",
    "\n",
    "while tempo<maximo or len(escalonador.prontos)>0:\n",
    "    \n",
    "    #Novo processo tem chanceProcesso% de chance surgir enquanto o tempo não chegar no máximo\n",
    "    if(tempo<maximo and random.randint(1,100)<chanceNovoProcesso):\n",
    "        p = Processo('P'+str(contaProc),random.randint(1,chanceIo),random.randint(minTime,maxTime),0,tempo)\n",
    "        print(\"Processo\",p.nome,\" chegou no tempo\",tempo)\n",
    "        escalonador.pronto(p)\n",
    "        contaProc+=1\n",
    "        \n",
    "\n",
    "    p = escalonador.proximo()\n",
    "    \n",
    "    if(p is not None):\n",
    "        rodou, fezio = p.roda(quantum)\n",
    "        if(fezio and p.tam>0):\n",
    "            bloqueados.append([p,tempoBloq+1]) #Adiciona o processo que fez e/s aos bloqueados\n",
    "        elif(p.tam>0):\n",
    "            escalonador.pronto(p)\n",
    "        total-=rodou\n",
    "        tempo+=rodou\n",
    "    else:\n",
    "        #Reduz o tempo de todos os bloqueados em uma unidade\n",
    "        tempo+=1\n",
    "    if(len(bloqueados)>0):\n",
    "        for i in bloqueados:\n",
    "            i[1]-=1\n",
    "            if(i[1]==0):\n",
    "                escalonador.pronto(i[0])\n",
    "                del i  "
   ]
  },
  {
   "cell_type": "markdown",
   "metadata": {
    "colab_type": "text",
    "id": "l-WBMAKhXJK4"
   },
   "source": [
    "### Laboratório: ###\n",
    "\n",
    "Neste laboratório vocês (em duplas) irão implementar 3 escalonadores:\n",
    "\n",
    "1 - MLFQ: Adicione parâmetros para definir o número de filas, o quantum de cada uma e o tempo de boost.\n",
    "\n",
    "2 - Loteria: tem um atributo `prioridade` no Processo, use ele para definir um número aleatório de bilhetes, similar ao que ocorre com e/s e outros parämetros\n",
    "\n",
    "3 - Stride: Similar ao loteria.\n",
    "\n"
   ]
  },
  {
   "cell_type": "markdown",
   "metadata": {
    "colab_type": "text",
    "id": "G5T25EzaXJK5"
   },
   "source": [
    "## Responda ##\n",
    "\n",
    "#### Sobre Loteria: ####\n",
    "\n",
    "1 - Rode a simulação mais simples com apenas dois processos, um com 100 tickets e outro com 1, com tempo 100 para terminar. O que aconteceu? O segundo processo conseguiu rodar alguma vez? Testando com outras sementes o resultado se manteve?\n",
    "\n",
    "2 - Rode a simulação simples com dois processos com 100 tickets e 100 timeslices. Calcule a Unfairness para quantum=2. Repita a operação para quantum 10, 20, 50 e 100. O que aconteceu?\n",
    "\n",
    "3 - Rode novamente dois processos com 100 tickets no simulador simples e quantum=2. Calcule a unfairness conforme o tamanho dos processos aumenta e faça um gráfico similar ao dos slides.\n",
    "\n",
    "4 - Rode o simulador maior com três tipos de processo possíveis: um com 10 tickets, um com 20 e um com 50. O que aconteceu com os que receberam menos tickets? Eles tiveram chance de rodar?"
   ]
  },
  {
   "cell_type": "code",
   "execution_count": null,
   "metadata": {
    "colab": {},
    "colab_type": "code",
    "id": "BlxysVYbuuDX"
   },
   "outputs": [],
   "source": []
  },
  {
   "cell_type": "markdown",
   "metadata": {},
   "source": [
    "#### Sobre Stride ####\n",
    "\n",
    "1 - Repita o cenário da 2 de loteria e faça um novo gráfico.\n",
    "\n",
    "2 - No simulador maior, qual o efeito que ter muitos processos fazendo E/S tem no algoritmo? O que pode ser feito com a posição do processo quando ele volta de E/S?\n",
    "\n",
    "3 - No simulador maior, rode um cenário igual para stride e loteria (com a mesma semente aleatória) e calcule tempo de resposta, de execução e __tempo de espera__ (tempo que o processo passou pronto). O que mudou entre os dois?"
   ]
  },
  {
   "cell_type": "code",
   "execution_count": null,
   "metadata": {},
   "outputs": [],
   "source": []
  },
  {
   "cell_type": "markdown",
   "metadata": {},
   "source": [
    "#### Sobre MLFQ ####\n",
    "\n",
    "1 - Rode o MLFQ no segundo simulador com duas filas e sem boost. O que aconteceu? \n",
    "\n",
    "2 - Quais configurações de parâmetros transformam o MLFQ no Round Robin?\n",
    "\n",
    "3 - Rodando no primeiro simulador, faça 1 dos quatro processos ser 100\\% CPU-Bound e os outros três 60\\% I/O Bound. Use a configuração com 3 filas, com 5, 3 e 1 timeslices para as fila em ordem de priorida. De quanto tempo deve ser o Boost para que o processo CPU-Bound não sofra starvation e tenha CPU 1 vez a cada 20 timeslices?\n",
    "\n",
    "4 - Teste diversas configurações de número de filas, quantum das filas e boost no simulador maior e ache a que leva ao melhor tempo de execução."
   ]
  },
  {
   "cell_type": "code",
   "execution_count": null,
   "metadata": {},
   "outputs": [],
   "source": []
  }
 ],
 "metadata": {
  "colab": {
   "name": "Laboratório Escalonamento.ipynb",
   "provenance": []
  },
  "kernelspec": {
   "display_name": "Python 3 (ipykernel)",
   "language": "python",
   "name": "python3"
  }
 },
 "nbformat": 4,
 "nbformat_minor": 1
}
